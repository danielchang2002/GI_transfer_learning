{
 "cells": [
  {
   "cell_type": "markdown",
   "metadata": {},
   "source": [
    "# In google colab!"
   ]
  },
  {
   "cell_type": "code",
   "execution_count": null,
   "metadata": {
    "colab": {
     "base_uri": "https://localhost:8080/",
     "height": 1000
    },
    "id": "Qj2BmA3i_m_0",
    "outputId": "c1ff9270-b035-45e4-8447-4e622cd2ff10"
   },
   "outputs": [],
   "source": [
    "! pip install learn2learn"
   ]
  },
  {
   "cell_type": "code",
   "execution_count": null,
   "metadata": {
    "id": "GnqgGAMSAK-i"
   },
   "outputs": [],
   "source": [
    "import learn2learn as l2l"
   ]
  },
  {
   "cell_type": "code",
   "execution_count": null,
   "metadata": {
    "id": "9N0y8qGJ_Yoi"
   },
   "outputs": [],
   "source": [
    "import pandas as pd\n",
    "import numpy as np\n",
    "from sklearn.preprocessing import StandardScaler"
   ]
  },
  {
   "cell_type": "code",
   "execution_count": null,
   "metadata": {
    "colab": {
     "base_uri": "https://localhost:8080/"
    },
    "id": "KjLOz0qEAuCQ",
    "outputId": "80e0ab4f-18b4-42ec-f293-e5f4a1c44c9b"
   },
   "outputs": [
    {
     "name": "stdout",
     "output_type": "stream",
     "text": [
      "Mounted at /content/drive\n"
     ]
    }
   ],
   "source": [
    "from google.colab import drive\n",
    "drive.mount('/content/drive')"
   ]
  },
  {
   "cell_type": "code",
   "execution_count": null,
   "metadata": {
    "colab": {
     "base_uri": "https://localhost:8080/"
    },
    "id": "PXz0rgF4_fLN",
    "outputId": "7b0dc26c-7140-4ced-a756-505e8982cbb5"
   },
   "outputs": [
    {
     "name": "stdout",
     "output_type": "stream",
     "text": [
      "Archive:  normalized_no_leakage.zip\n",
      "  inflating: depmap_crispr_zscore.csv  \n",
      "  inflating: depmap_expression_lfc_zscore.csv  \n",
      "  inflating: hap1_expression_lfc.csv  \n",
      "  inflating: hap1_crispr.csv         \n"
     ]
    }
   ],
   "source": [
    "! cp /content/drive/MyDrive/gin_depmap_transfer_learning/normalized_no_leakage.zip .\n",
    "! unzip normalized_no_leakage.zip"
   ]
  },
  {
   "cell_type": "code",
   "execution_count": null,
   "metadata": {
    "colab": {
     "base_uri": "https://localhost:8080/"
    },
    "id": "XcD5x7Lq_jYD",
    "outputId": "91add68d-8736-43ba-a107-2fed42f8e0f4"
   },
   "outputs": [
    {
     "data": {
      "text/plain": [
       "((60, 16372), (60, 16432), (1021, 16372), (1021, 16432))"
      ]
     },
     "execution_count": 5,
     "metadata": {},
     "output_type": "execute_result"
    }
   ],
   "source": [
    "norm_dir = \"\"\n",
    "\n",
    "hap1_expression_lfc = pd.read_csv(norm_dir + \"hap1_expression_lfc.csv\", index_col=0)\n",
    "hap1_crispr = pd.read_csv(norm_dir + \"hap1_crispr.csv\", index_col=0)\n",
    "depmap_expression_lfc_zscore = pd.read_csv(norm_dir + \"depmap_expression_lfc_zscore.csv\", index_col=0)\n",
    "depmap_crispr_zscore = pd.read_csv(norm_dir + \"depmap_crispr_zscore.csv\", index_col=0)\n",
    "hap1_expression_lfc.shape, hap1_crispr.shape, depmap_expression_lfc_zscore.shape, depmap_crispr_zscore.shape"
   ]
  },
  {
   "cell_type": "code",
   "execution_count": null,
   "metadata": {
    "id": "xQcaICZUGRRX"
   },
   "outputs": [],
   "source": [
    "! git clone https://github.com/danielchang2002/GI_transfer_learning\n",
    "%cd GI_transfer_learning/src\n",
    "from utils import *\n",
    "from mlp import MLP"
   ]
  },
  {
   "cell_type": "code",
   "execution_count": null,
   "metadata": {
    "id": "WL8uOZ1-AbO7"
   },
   "outputs": [],
   "source": [
    "data = hap1_expression_lfc\n",
    "labels = hap1_crispr\n",
    "data2 = depmap_expression_lfc_zscore\n",
    "labels2 = depmap_crispr_zscore"
   ]
  },
  {
   "cell_type": "code",
   "execution_count": null,
   "metadata": {
    "id": "MPtN3PSGB3Z2"
   },
   "outputs": [],
   "source": [
    "tissue_info = pd.read_csv(\"Model.csv\", index_col=0)[\"OncotreeLineage\"].loc[data2.index]\n",
    "tissue_counts = tissue_info.value_counts()"
   ]
  },
  {
   "cell_type": "code",
   "execution_count": null,
   "metadata": {
    "colab": {
     "base_uri": "https://localhost:8080/"
    },
    "id": "e8P1o6trB5Li",
    "outputId": "7295bbb0-32be-4824-d69b-8476110f5830"
   },
   "outputs": [
    {
     "data": {
      "text/plain": [
       "27"
      ]
     },
     "execution_count": 30,
     "metadata": {},
     "output_type": "execute_result"
    }
   ],
   "source": [
    "tissue_counts.shape[0]"
   ]
  },
  {
   "cell_type": "code",
   "execution_count": null,
   "metadata": {
    "id": "ZG0_IvaBB5Ns"
   },
   "outputs": [],
   "source": [
    "min_tissue_size = 16\n",
    "\n",
    "def get_task():\n",
    "    tissue = tissue_counts[tissue_counts >= min_tissue_size].sample().index[0]\n",
    "\n",
    "    tissue_expression = data2[tissue_info == tissue]\n",
    "    tissue_crispr = labels2[tissue_info == tissue]\n",
    "\n",
    "    num_samples_in_tissue = tissue_expression.shape[0]\n",
    "    batch_size = 16\n",
    "    # batch_size = num_samples_in_tissue\n",
    "\n",
    "    tissue_expression = tissue_expression.sample(batch_size)\n",
    "    tissue_crispr = tissue_crispr.sample(batch_size)\n",
    "\n",
    "    train_tissue_expression = tissue_expression[:batch_size // 2]\n",
    "    train_tissue_crispr = tissue_crispr[:batch_size // 2]\n",
    "\n",
    "    test_tissue_expression = tissue_expression[batch_size // 2:]\n",
    "    test_tissue_crispr = tissue_crispr[batch_size // 2:]\n",
    "\n",
    "    return torch.Tensor(train_tissue_expression.values).to(device=\"cuda\"), torch.Tensor(train_tissue_crispr.values).to(device=\"cuda\"), torch.Tensor(test_tissue_expression.values).to(device=\"cuda\"), torch.Tensor(test_tissue_crispr.values).to(device=\"cuda\")"
   ]
  },
  {
   "cell_type": "code",
   "execution_count": null,
   "metadata": {
    "id": "xZgXLtXASWNu"
   },
   "outputs": [],
   "source": [
    "min_tissue_size = 16\n",
    "\n",
    "def get_task2():\n",
    "\n",
    "    tissues = list(tissue_counts.index)\n",
    "    np.random.shuffle(tissues)\n",
    "\n",
    "    train_tissues = tissues[: len(tissues) // 2]\n",
    "    test_tissues = tissues[len(tissues) // 2 :]\n",
    "\n",
    "    train_tissue_expression = data2[tissue_info.isin(train_tissues)]\n",
    "    train_tissue_crispr = labels2[tissue_info.isin(train_tissues)]\n",
    "\n",
    "    test_tissue_expression = data2[tissue_info.isin(test_tissues)]\n",
    "    test_tissue_crispr = labels2[tissue_info.isin(test_tissues)]\n",
    "\n",
    "    return torch.Tensor(train_tissue_expression.values).to(device=\"cuda\"), torch.Tensor(train_tissue_crispr.values).to(device=\"cuda\"), torch.Tensor(test_tissue_expression.values).to(device=\"cuda\"), torch.Tensor(test_tissue_crispr.values).to(device=\"cuda\")"
   ]
  },
  {
   "cell_type": "code",
   "execution_count": null,
   "metadata": {
    "colab": {
     "base_uri": "https://localhost:8080/"
    },
    "id": "yi4DVM7OLHIP",
    "outputId": "317887b6-98c3-4f8d-e3ef-25ed49285803"
   },
   "outputs": [
    {
     "name": "stdout",
     "output_type": "stream",
     "text": [
      "Wed May  8 18:51:04 2024       \n",
      "+---------------------------------------------------------------------------------------+\n",
      "| NVIDIA-SMI 535.104.05             Driver Version: 535.104.05   CUDA Version: 12.2     |\n",
      "|-----------------------------------------+----------------------+----------------------+\n",
      "| GPU  Name                 Persistence-M | Bus-Id        Disp.A | Volatile Uncorr. ECC |\n",
      "| Fan  Temp   Perf          Pwr:Usage/Cap |         Memory-Usage | GPU-Util  Compute M. |\n",
      "|                                         |                      |               MIG M. |\n",
      "|=========================================+======================+======================|\n",
      "|   0  Tesla T4                       Off | 00000000:00:04.0 Off |                    0 |\n",
      "| N/A   68C    P0              28W /  70W |  10317MiB / 15360MiB |      0%      Default |\n",
      "|                                         |                      |                  N/A |\n",
      "+-----------------------------------------+----------------------+----------------------+\n",
      "                                                                                         \n",
      "+---------------------------------------------------------------------------------------+\n",
      "| Processes:                                                                            |\n",
      "|  GPU   GI   CI        PID   Type   Process name                            GPU Memory |\n",
      "|        ID   ID                                                             Usage      |\n",
      "|=======================================================================================|\n",
      "+---------------------------------------------------------------------------------------+\n"
     ]
    }
   ],
   "source": [
    "! nvidia-smi"
   ]
  },
  {
   "cell_type": "code",
   "execution_count": null,
   "metadata": {
    "id": "wD2AzPJvTdcm"
   },
   "outputs": [],
   "source": [
    "import learn2learn as l2l"
   ]
  },
  {
   "cell_type": "code",
   "execution_count": null,
   "metadata": {
    "id": "iSDhUCqLmYDH"
   },
   "outputs": [],
   "source": [
    "import torch.optim as optim\n",
    "\n",
    "TIMESTEPS = 100\n",
    "TASKS_PER_STEP = 10\n",
    "fine_tune_steps = 1\n",
    "\n",
    "model = MLP(data2.shape[1], labels.shape[1]).to(device=\"cuda\")\n",
    "maml = l2l.algorithms.MAML(model, lr=1e-2, first_order=False)\n",
    "opt = optim.Adam(maml.parameters(), lr=1e-3)\n",
    "loss_func = nn.MSELoss()\n",
    "\n",
    "l2_weight1 = 0\n",
    "l2_weight2 = 0.01"
   ]
  },
  {
   "cell_type": "code",
   "execution_count": null,
   "metadata": {
    "colab": {
     "base_uri": "https://localhost:8080/",
     "height": 1000
    },
    "id": "NRIC24Y4Btg2",
    "outputId": "a2f42e1b-3507-421d-97b1-8e376fad3265"
   },
   "outputs": [
    {
     "name": "stdout",
     "output_type": "stream",
     "text": [
      "0 1.9211090803146362 -0.0005295735185442602 \n",
      "1 2.951321601867676 -0.00422061782429232 \n",
      "2 2.583693265914917 0.001244518840555361 \n",
      "3 2.5528512001037598 -0.002799777724811843 \n",
      "4 2.297614574432373 0.0030313017238701905 \n",
      "5 2.550607442855835 0.0029332634139082477 \n",
      "6 2.455620527267456 0.00012753865121573415 \n",
      "7 2.3943257331848145 -0.0006501665718912051 \n",
      "8 2.2364814281463623 0.009494920454239391 \n",
      "9 2.738168239593506 0.0077271743305125885 \n",
      "10 2.819582939147949 0.024862143982614007 \n",
      "11 2.1507322788238525 0.005892407433799029 \n",
      "12 2.2377662658691406 0.008014785888014119 \n",
      "13 2.210594415664673 0.014796200703217327 \n",
      "14 2.4311721324920654 0.013651878298487333 \n",
      "15 2.1014697551727295 0.007878442223719837 \n",
      "16 2.2003300189971924 0.010716305283650335 \n",
      "17 2.1228034496307373 0.00792943970673653 \n",
      "18 2.2817699909210205 0.014242771155133536 \n",
      "19 2.1324334144592285 0.014645538012466352 \n",
      "20 2.292640209197998 0.0192976423996562 \n",
      "21 2.109809160232544 0.025654917942361844 \n",
      "22 2.1012017726898193 0.02603342069035571 \n",
      "23 2.107253074645996 0.026097794396281015 \n",
      "24 2.176098585128784 0.042962616026691866 \n",
      "25 1.9871675968170166 0.03296258451535938 \n",
      "26 2.114440679550171 0.03365123902835958 \n",
      "27 1.9908195734024048 0.023327122086710256 \n",
      "28 2.0956854820251465 0.02290351192804531 \n",
      "29 1.977487564086914 0.02252993201193773 \n",
      "30 2.120988607406616 0.025873211331635747 \n",
      "31 2.0857887268066406 0.022524714916954448 \n",
      "32 1.959600806236267 0.026462204106752773 \n",
      "33 2.1140146255493164 0.03319569316370681 \n",
      "34 2.01859450340271 0.030678371614536976 \n",
      "35 2.045567750930786 0.042718572347681574 \n",
      "36 2.0062127113342285 0.033145097692307536 \n",
      "37 1.869325041770935 0.03395810731751802 \n",
      "38 2.017534017562866 0.024282639860491596 \n",
      "39 1.8891836404800415 0.035558841604086365 \n",
      "40 1.8583074808120728 0.041392926760755046 \n",
      "41 1.9349268674850464 0.04653580312166287 \n",
      "42 1.9026235342025757 0.03959247224141667 \n",
      "43 1.9147614240646362 0.05108152458401699 \n",
      "44 2.0242114067077637 0.04397050286235348 \n",
      "45 1.9346064329147339 0.05017974488905279 \n",
      "46 1.992901086807251 0.0668462207071554 \n",
      "47 1.811635971069336 0.06622084508231511 \n",
      "48 1.843427300453186 0.0518347820950114 \n",
      "49 1.8194580078125 0.06017284019105061 \n",
      "50 1.9208205938339233 0.08682385265451605 \n",
      "51 1.9268591403961182 0.06244289495106943 \n",
      "52 1.7543960809707642 0.0567397399591623 \n",
      "53 1.7886961698532104 0.06086254818052881 \n",
      "54 1.7738497257232666 0.053054462185760654 \n",
      "55 1.8904155492782593 0.051687071116525554 \n",
      "56 1.8598241806030273 0.0797741035084522 \n",
      "57 2.086780071258545 0.060827293679529396 \n",
      "58 1.7409183979034424 0.04830547783740636 \n",
      "59 1.878063440322876 0.06119920430898999 \n",
      "60 1.7792118787765503 0.054602461506238376 \n",
      "61 1.7322241067886353 0.0693268661231538 \n",
      "62 1.9105064868927002 0.09028701199233269 \n",
      "63 1.8090403079986572 0.07082367609541908 \n",
      "64 1.8527897596359253 0.07858264145185889 \n",
      "65 1.7567262649536133 0.0752408500414226 \n",
      "66 1.7754135131835938 0.07047347762546019 \n",
      "67 1.7913960218429565 0.08840144164359083 \n",
      "68 1.715307593345642 0.09350647410416499 \n",
      "69 1.8762069940567017 0.1040816889263434 \n",
      "70 1.7097084522247314 0.06791278275472432 \n",
      "71 1.825291633605957 0.07737560721368336 \n",
      "72 1.8212807178497314 0.10572792614953219 \n",
      "73 1.764439582824707 0.07476138168069661 \n",
      "74 1.7898057699203491 0.07724783584740373 \n",
      "75 1.8095146417617798 0.09543653715532752 \n",
      "76 1.795731782913208 0.1055712216411718 \n",
      "77 1.767122507095337 0.09075768641316126 \n",
      "78 1.7055047750473022 0.0686859625244068 \n",
      "79 1.7764036655426025 0.09224112612651406 \n",
      "80 1.8361800909042358 0.10504352862058704 \n",
      "81 1.7154362201690674 0.13041963296420075 \n",
      "82 1.7019203901290894 0.09181570677324212 \n",
      "83 1.8303345441818237 0.10918538544530292 \n",
      "84 1.623660683631897 0.08393169821538177 \n",
      "85 1.5095913410186768 0.07829336186424693 \n",
      "86 1.7962340116500854 0.11054689943701516 \n",
      "87 1.7593870162963867 0.0966128565167271 \n",
      "88 1.7198991775512695 0.11030164574338004 \n",
      "89 1.7662498950958252 0.10861138580922065 \n",
      "90 1.7628834247589111 0.11254007904394321 \n",
      "91 1.7689450979232788 0.12461778327721425 \n",
      "92 1.6086870431900024 0.10267904856089541 \n",
      "93 1.7242279052734375 0.09221039449433426 \n",
      "94 1.7952302694320679 0.1020277356208426 \n",
      "95 1.6325416564941406 0.10268745132384263 \n",
      "96 1.6711677312850952 0.10105595794103753 \n",
      "97 1.6559118032455444 0.10578884852055029 \n",
      "98 1.6244843006134033 0.11002557570149551 \n",
      "99 1.60753333568573 0.1246514322244063 \n",
      "100 1.5608090162277222 0.11787801486751652 \n",
      "101 1.5594819784164429 0.11407939740546538 \n",
      "102 1.6562107801437378 0.14126965234298255 \n",
      "103 1.6140037775039673 0.1207048533501105 \n",
      "104 1.5995726585388184 0.12082097179124547 \n",
      "105 1.5972403287887573 0.1440453844129778 \n",
      "106 1.5766733884811401 0.11676424608217799 \n",
      "107 1.4624481201171875 0.1284146273122382 \n",
      "108 1.6216728687286377 0.10569626189709502 \n",
      "109 1.6876190900802612 0.1021804243183229 \n",
      "110 1.6797913312911987 0.11911384345344604 \n",
      "111 1.6571162939071655 0.13375376306613534 \n",
      "112 1.6807254552841187 0.1196892776840367 \n",
      "113 1.6363670825958252 0.12298676216747988 \n",
      "114 1.494037389755249 0.11252575354908667 \n",
      "115 1.5943950414657593 0.1170071136957868 \n",
      "116 1.5736063718795776 0.12883785260499175 \n",
      "117 1.4418162107467651 0.14565592773165323 \n",
      "118 1.62655508518219 0.12204415901752597 \n",
      "119 1.5512104034423828 0.13710954550336424 \n",
      "120 1.649837851524353 0.13700782839962966 \n",
      "121 1.6553125381469727 0.15563744962132958 \n",
      "122 1.5987324714660645 0.12146927985786116 \n",
      "123 1.5488115549087524 0.11760911319829788 \n",
      "124 1.5641852617263794 0.11483177680201193 \n",
      "125 1.5395466089248657 0.15063490187024994 \n",
      "126 1.5720733404159546 0.10939252751835564 \n",
      "127 1.5221279859542847 0.13232327279497672 \n",
      "128 1.5245107412338257 0.15175454782361036 \n",
      "129 1.549375295639038 0.14010488185907966 \n",
      "130 1.5337122678756714 0.12911020821830432 \n",
      "131 1.5308387279510498 0.14184138358319523 \n",
      "132 1.5008801221847534 0.1437062280958961 \n",
      "133 1.57353675365448 0.14512943211384366 \n",
      "134 1.576393723487854 0.15694745650493622 \n",
      "135 1.4763116836547852 0.13584150547929202 \n",
      "136 1.4936771392822266 0.1720476784255271 \n",
      "137 1.5807050466537476 0.15266644403222412 \n",
      "138 1.6066656112670898 0.10889144310242185 \n",
      "139 1.6138709783554077 0.1453394906313433 \n",
      "140 1.4325196743011475 0.1252187964288037 \n",
      "141 1.5254945755004883 0.1659231761435284 \n",
      "142 1.5944374799728394 0.11237566264910492 \n",
      "143 1.3870478868484497 0.12766391740952274 \n",
      "144 1.5229445695877075 0.15870151542816585 \n",
      "145 1.4208863973617554 0.13462590945400812 \n",
      "146 1.5087872743606567 0.1374525751167912 \n",
      "147 1.3958277702331543 0.15403180397374472 \n",
      "148 1.4135591983795166 0.15657802173351407 \n",
      "149 1.4308995008468628 0.13772841024583937 \n",
      "150 1.3570064306259155 0.14926110145141505 \n",
      "151 1.3494658470153809 0.11923325442000107 \n",
      "152 1.334314227104187 0.1427321367952454 \n",
      "153 1.3618491888046265 0.13872814695368038 \n",
      "154 1.4407910108566284 0.13011525546041317 \n",
      "155 1.4945067167282104 0.1560958125452196 \n",
      "156 1.5083669424057007 0.16289448994997027 \n",
      "157 1.493770718574524 0.1339425969023353 \n",
      "158 1.4479254484176636 0.12183899019998035 \n",
      "159 1.3955023288726807 0.1757535524895233 \n",
      "160 1.2970128059387207 0.14324102709347003 \n",
      "161 1.2862733602523804 0.14326341371162885 \n",
      "162 1.4845694303512573 0.13112688425657587 \n",
      "163 1.4389411211013794 0.13111928636568843 \n",
      "164 1.4122527837753296 0.12678614613872277 \n",
      "165 1.5111098289489746 0.1279820576599248 \n",
      "166 1.355751395225525 0.14006047666281712 \n",
      "167 1.2384655475616455 0.1416818130708579 \n",
      "168 1.3120938539505005 0.12521381990413613 \n",
      "169 1.2798923254013062 0.16344895945246968 \n",
      "170 1.409610629081726 0.13173786339945553 \n",
      "171 1.3703205585479736 0.14211098178549636 \n",
      "172 1.3825441598892212 0.12134383528739541 \n",
      "173 1.3210231065750122 0.15712798347184195 \n",
      "174 1.247235894203186 0.14018447904835102 \n",
      "175 1.2462166547775269 0.15053860597960592 \n",
      "176 1.2718921899795532 0.13940830508379445 \n",
      "177 1.214948296546936 0.1355007988853399 \n",
      "178 1.281008005142212 0.16409412631671644 \n",
      "179 1.353615641593933 0.09879771662739402 \n",
      "180 1.3414374589920044 0.12574277710406365 \n",
      "181 1.3132654428482056 0.13703195525646805 \n",
      "182 1.3405941724777222 0.1506971248577645 \n",
      "183 1.3484851121902466 0.15422454160309695 \n",
      "184 1.252426028251648 0.1363749733480084 \n",
      "185 1.2659294605255127 0.17030730745066025 \n",
      "186 1.1804485321044922 0.1625584741467609 \n",
      "187 1.3597471714019775 0.15312759065402665 \n",
      "188 1.2471050024032593 0.1460265926022605 \n",
      "189 1.3805347681045532 0.15490331580680775 \n",
      "190 1.295107364654541 0.12294487966444026 \n",
      "191 1.2154134511947632 0.11591721702736602 \n"
     ]
    },
    {
     "ename": "KeyboardInterrupt",
     "evalue": "",
     "output_type": "error",
     "traceback": [
      "\u001b[0;31m---------------------------------------------------------------------------\u001b[0m",
      "\u001b[0;31mKeyboardInterrupt\u001b[0m                         Traceback (most recent call last)",
      "\u001b[0;32m<ipython-input-34-e0e82cff6872>\u001b[0m in \u001b[0;36m<cell line: 3>\u001b[0;34m()\u001b[0m\n\u001b[1;32m      9\u001b[0m \u001b[0;34m\u001b[0m\u001b[0m\n\u001b[1;32m     10\u001b[0m     \u001b[0;32mfor\u001b[0m \u001b[0mt\u001b[0m \u001b[0;32min\u001b[0m \u001b[0mrange\u001b[0m\u001b[0;34m(\u001b[0m\u001b[0mTASKS_PER_STEP\u001b[0m\u001b[0;34m)\u001b[0m\u001b[0;34m:\u001b[0m\u001b[0;34m\u001b[0m\u001b[0;34m\u001b[0m\u001b[0m\n\u001b[0;32m---> 11\u001b[0;31m         \u001b[0mtrain_tissue_expression\u001b[0m\u001b[0;34m,\u001b[0m \u001b[0mtrain_tissue_crispr\u001b[0m\u001b[0;34m,\u001b[0m \u001b[0mtest_tissue_expression\u001b[0m\u001b[0;34m,\u001b[0m \u001b[0mtest_tissue_crispr\u001b[0m \u001b[0;34m=\u001b[0m \u001b[0mget_task\u001b[0m\u001b[0;34m(\u001b[0m\u001b[0;34m)\u001b[0m\u001b[0;34m\u001b[0m\u001b[0;34m\u001b[0m\u001b[0m\n\u001b[0m\u001b[1;32m     12\u001b[0m \u001b[0;34m\u001b[0m\u001b[0m\n\u001b[1;32m     13\u001b[0m         \u001b[0;31m# Adaptation: Instanciate a copy of model\u001b[0m\u001b[0;34m\u001b[0m\u001b[0;34m\u001b[0m\u001b[0m\n",
      "\u001b[0;32m<ipython-input-31-7a9fe3ad3279>\u001b[0m in \u001b[0;36mget_task\u001b[0;34m()\u001b[0m\n\u001b[1;32m      4\u001b[0m   \u001b[0mtissue\u001b[0m \u001b[0;34m=\u001b[0m \u001b[0mtissue_counts\u001b[0m\u001b[0;34m[\u001b[0m\u001b[0mtissue_counts\u001b[0m \u001b[0;34m>=\u001b[0m \u001b[0mmin_tissue_size\u001b[0m\u001b[0;34m]\u001b[0m\u001b[0;34m.\u001b[0m\u001b[0msample\u001b[0m\u001b[0;34m(\u001b[0m\u001b[0;34m)\u001b[0m\u001b[0;34m.\u001b[0m\u001b[0mindex\u001b[0m\u001b[0;34m[\u001b[0m\u001b[0;36m0\u001b[0m\u001b[0;34m]\u001b[0m\u001b[0;34m\u001b[0m\u001b[0;34m\u001b[0m\u001b[0m\n\u001b[1;32m      5\u001b[0m \u001b[0;34m\u001b[0m\u001b[0m\n\u001b[0;32m----> 6\u001b[0;31m   \u001b[0mtissue_expression\u001b[0m \u001b[0;34m=\u001b[0m \u001b[0mdata2\u001b[0m\u001b[0;34m[\u001b[0m\u001b[0mtissue_info\u001b[0m \u001b[0;34m==\u001b[0m \u001b[0mtissue\u001b[0m\u001b[0;34m]\u001b[0m\u001b[0;34m\u001b[0m\u001b[0;34m\u001b[0m\u001b[0m\n\u001b[0m\u001b[1;32m      7\u001b[0m   \u001b[0mtissue_crispr\u001b[0m \u001b[0;34m=\u001b[0m \u001b[0mlabels2\u001b[0m\u001b[0;34m[\u001b[0m\u001b[0mtissue_info\u001b[0m \u001b[0;34m==\u001b[0m \u001b[0mtissue\u001b[0m\u001b[0;34m]\u001b[0m\u001b[0;34m\u001b[0m\u001b[0;34m\u001b[0m\u001b[0m\n\u001b[1;32m      8\u001b[0m \u001b[0;34m\u001b[0m\u001b[0m\n",
      "\u001b[0;32m/usr/local/lib/python3.10/dist-packages/pandas/core/frame.py\u001b[0m in \u001b[0;36m__getitem__\u001b[0;34m(self, key)\u001b[0m\n\u001b[1;32m   3750\u001b[0m         \u001b[0;31m# Do we have a (boolean) 1d indexer?\u001b[0m\u001b[0;34m\u001b[0m\u001b[0;34m\u001b[0m\u001b[0m\n\u001b[1;32m   3751\u001b[0m         \u001b[0;32mif\u001b[0m \u001b[0mcom\u001b[0m\u001b[0;34m.\u001b[0m\u001b[0mis_bool_indexer\u001b[0m\u001b[0;34m(\u001b[0m\u001b[0mkey\u001b[0m\u001b[0;34m)\u001b[0m\u001b[0;34m:\u001b[0m\u001b[0;34m\u001b[0m\u001b[0;34m\u001b[0m\u001b[0m\n\u001b[0;32m-> 3752\u001b[0;31m             \u001b[0;32mreturn\u001b[0m \u001b[0mself\u001b[0m\u001b[0;34m.\u001b[0m\u001b[0m_getitem_bool_array\u001b[0m\u001b[0;34m(\u001b[0m\u001b[0mkey\u001b[0m\u001b[0;34m)\u001b[0m\u001b[0;34m\u001b[0m\u001b[0;34m\u001b[0m\u001b[0m\n\u001b[0m\u001b[1;32m   3753\u001b[0m \u001b[0;34m\u001b[0m\u001b[0m\n\u001b[1;32m   3754\u001b[0m         \u001b[0;31m# We are left with two options: a single key, and a collection of keys,\u001b[0m\u001b[0;34m\u001b[0m\u001b[0;34m\u001b[0m\u001b[0m\n",
      "\u001b[0;32m/usr/local/lib/python3.10/dist-packages/pandas/core/frame.py\u001b[0m in \u001b[0;36m_getitem_bool_array\u001b[0;34m(self, key)\u001b[0m\n\u001b[1;32m   3809\u001b[0m \u001b[0;34m\u001b[0m\u001b[0m\n\u001b[1;32m   3810\u001b[0m         \u001b[0mindexer\u001b[0m \u001b[0;34m=\u001b[0m \u001b[0mkey\u001b[0m\u001b[0;34m.\u001b[0m\u001b[0mnonzero\u001b[0m\u001b[0;34m(\u001b[0m\u001b[0;34m)\u001b[0m\u001b[0;34m[\u001b[0m\u001b[0;36m0\u001b[0m\u001b[0;34m]\u001b[0m\u001b[0;34m\u001b[0m\u001b[0;34m\u001b[0m\u001b[0m\n\u001b[0;32m-> 3811\u001b[0;31m         \u001b[0;32mreturn\u001b[0m \u001b[0mself\u001b[0m\u001b[0;34m.\u001b[0m\u001b[0m_take_with_is_copy\u001b[0m\u001b[0;34m(\u001b[0m\u001b[0mindexer\u001b[0m\u001b[0;34m,\u001b[0m \u001b[0maxis\u001b[0m\u001b[0;34m=\u001b[0m\u001b[0;36m0\u001b[0m\u001b[0;34m)\u001b[0m\u001b[0;34m\u001b[0m\u001b[0;34m\u001b[0m\u001b[0m\n\u001b[0m\u001b[1;32m   3812\u001b[0m \u001b[0;34m\u001b[0m\u001b[0m\n\u001b[1;32m   3813\u001b[0m     \u001b[0;32mdef\u001b[0m \u001b[0m_getitem_multilevel\u001b[0m\u001b[0;34m(\u001b[0m\u001b[0mself\u001b[0m\u001b[0;34m,\u001b[0m \u001b[0mkey\u001b[0m\u001b[0;34m)\u001b[0m\u001b[0;34m:\u001b[0m\u001b[0;34m\u001b[0m\u001b[0;34m\u001b[0m\u001b[0m\n",
      "\u001b[0;32m/usr/local/lib/python3.10/dist-packages/pandas/core/generic.py\u001b[0m in \u001b[0;36m_take_with_is_copy\u001b[0;34m(self, indices, axis)\u001b[0m\n\u001b[1;32m   3946\u001b[0m         \u001b[0mSee\u001b[0m \u001b[0mthe\u001b[0m \u001b[0mdocstring\u001b[0m \u001b[0mof\u001b[0m\u001b[0;31m \u001b[0m\u001b[0;31m`\u001b[0m\u001b[0mtake\u001b[0m\u001b[0;31m`\u001b[0m \u001b[0;32mfor\u001b[0m \u001b[0mfull\u001b[0m \u001b[0mexplanation\u001b[0m \u001b[0mof\u001b[0m \u001b[0mthe\u001b[0m \u001b[0mparameters\u001b[0m\u001b[0;34m.\u001b[0m\u001b[0;34m\u001b[0m\u001b[0;34m\u001b[0m\u001b[0m\n\u001b[1;32m   3947\u001b[0m         \"\"\"\n\u001b[0;32m-> 3948\u001b[0;31m         \u001b[0mresult\u001b[0m \u001b[0;34m=\u001b[0m \u001b[0mself\u001b[0m\u001b[0;34m.\u001b[0m\u001b[0m_take\u001b[0m\u001b[0;34m(\u001b[0m\u001b[0mindices\u001b[0m\u001b[0;34m=\u001b[0m\u001b[0mindices\u001b[0m\u001b[0;34m,\u001b[0m \u001b[0maxis\u001b[0m\u001b[0;34m=\u001b[0m\u001b[0maxis\u001b[0m\u001b[0;34m)\u001b[0m\u001b[0;34m\u001b[0m\u001b[0;34m\u001b[0m\u001b[0m\n\u001b[0m\u001b[1;32m   3949\u001b[0m         \u001b[0;31m# Maybe set copy if we didn't actually change the index.\u001b[0m\u001b[0;34m\u001b[0m\u001b[0;34m\u001b[0m\u001b[0m\n\u001b[1;32m   3950\u001b[0m         \u001b[0;32mif\u001b[0m \u001b[0;32mnot\u001b[0m \u001b[0mresult\u001b[0m\u001b[0;34m.\u001b[0m\u001b[0m_get_axis\u001b[0m\u001b[0;34m(\u001b[0m\u001b[0maxis\u001b[0m\u001b[0;34m)\u001b[0m\u001b[0;34m.\u001b[0m\u001b[0mequals\u001b[0m\u001b[0;34m(\u001b[0m\u001b[0mself\u001b[0m\u001b[0;34m.\u001b[0m\u001b[0m_get_axis\u001b[0m\u001b[0;34m(\u001b[0m\u001b[0maxis\u001b[0m\u001b[0;34m)\u001b[0m\u001b[0;34m)\u001b[0m\u001b[0;34m:\u001b[0m\u001b[0;34m\u001b[0m\u001b[0;34m\u001b[0m\u001b[0m\n",
      "\u001b[0;32m/usr/local/lib/python3.10/dist-packages/pandas/core/generic.py\u001b[0m in \u001b[0;36m_take\u001b[0;34m(self, indices, axis, convert_indices)\u001b[0m\n\u001b[1;32m   3930\u001b[0m                 \u001b[0;32mreturn\u001b[0m \u001b[0mself\u001b[0m\u001b[0;34m.\u001b[0m\u001b[0mcopy\u001b[0m\u001b[0;34m(\u001b[0m\u001b[0mdeep\u001b[0m\u001b[0;34m=\u001b[0m\u001b[0;32mNone\u001b[0m\u001b[0;34m)\u001b[0m\u001b[0;34m\u001b[0m\u001b[0;34m\u001b[0m\u001b[0m\n\u001b[1;32m   3931\u001b[0m \u001b[0;34m\u001b[0m\u001b[0m\n\u001b[0;32m-> 3932\u001b[0;31m         new_data = self._mgr.take(\n\u001b[0m\u001b[1;32m   3933\u001b[0m             \u001b[0mindices\u001b[0m\u001b[0;34m,\u001b[0m\u001b[0;34m\u001b[0m\u001b[0;34m\u001b[0m\u001b[0m\n\u001b[1;32m   3934\u001b[0m             \u001b[0maxis\u001b[0m\u001b[0;34m=\u001b[0m\u001b[0mself\u001b[0m\u001b[0;34m.\u001b[0m\u001b[0m_get_block_manager_axis\u001b[0m\u001b[0;34m(\u001b[0m\u001b[0maxis\u001b[0m\u001b[0;34m)\u001b[0m\u001b[0;34m,\u001b[0m\u001b[0;34m\u001b[0m\u001b[0;34m\u001b[0m\u001b[0m\n",
      "\u001b[0;32m/usr/local/lib/python3.10/dist-packages/pandas/core/internals/managers.py\u001b[0m in \u001b[0;36mtake\u001b[0;34m(self, indexer, axis, verify, convert_indices)\u001b[0m\n\u001b[1;32m    961\u001b[0m \u001b[0;34m\u001b[0m\u001b[0m\n\u001b[1;32m    962\u001b[0m         \u001b[0mnew_labels\u001b[0m \u001b[0;34m=\u001b[0m \u001b[0mself\u001b[0m\u001b[0;34m.\u001b[0m\u001b[0maxes\u001b[0m\u001b[0;34m[\u001b[0m\u001b[0maxis\u001b[0m\u001b[0;34m]\u001b[0m\u001b[0;34m.\u001b[0m\u001b[0mtake\u001b[0m\u001b[0;34m(\u001b[0m\u001b[0mindexer\u001b[0m\u001b[0;34m)\u001b[0m\u001b[0;34m\u001b[0m\u001b[0;34m\u001b[0m\u001b[0m\n\u001b[0;32m--> 963\u001b[0;31m         return self.reindex_indexer(\n\u001b[0m\u001b[1;32m    964\u001b[0m             \u001b[0mnew_axis\u001b[0m\u001b[0;34m=\u001b[0m\u001b[0mnew_labels\u001b[0m\u001b[0;34m,\u001b[0m\u001b[0;34m\u001b[0m\u001b[0;34m\u001b[0m\u001b[0m\n\u001b[1;32m    965\u001b[0m             \u001b[0mindexer\u001b[0m\u001b[0;34m=\u001b[0m\u001b[0mindexer\u001b[0m\u001b[0;34m,\u001b[0m\u001b[0;34m\u001b[0m\u001b[0;34m\u001b[0m\u001b[0m\n",
      "\u001b[0;32m/usr/local/lib/python3.10/dist-packages/pandas/core/internals/managers.py\u001b[0m in \u001b[0;36mreindex_indexer\u001b[0;34m(self, new_axis, indexer, axis, fill_value, allow_dups, copy, only_slice, use_na_proxy)\u001b[0m\n\u001b[1;32m    762\u001b[0m         \u001b[0;32mif\u001b[0m \u001b[0maxis\u001b[0m \u001b[0;34m==\u001b[0m \u001b[0;36m1\u001b[0m\u001b[0;34m:\u001b[0m\u001b[0;34m\u001b[0m\u001b[0;34m\u001b[0m\u001b[0m\n\u001b[1;32m    763\u001b[0m             \u001b[0;31m# We can avoid the need to rebuild these\u001b[0m\u001b[0;34m\u001b[0m\u001b[0;34m\u001b[0m\u001b[0m\n\u001b[0;32m--> 764\u001b[0;31m             \u001b[0mnew_mgr\u001b[0m\u001b[0;34m.\u001b[0m\u001b[0m_blknos\u001b[0m \u001b[0;34m=\u001b[0m \u001b[0mself\u001b[0m\u001b[0;34m.\u001b[0m\u001b[0mblknos\u001b[0m\u001b[0;34m.\u001b[0m\u001b[0mcopy\u001b[0m\u001b[0;34m(\u001b[0m\u001b[0;34m)\u001b[0m\u001b[0;34m\u001b[0m\u001b[0;34m\u001b[0m\u001b[0m\n\u001b[0m\u001b[1;32m    765\u001b[0m             \u001b[0mnew_mgr\u001b[0m\u001b[0;34m.\u001b[0m\u001b[0m_blklocs\u001b[0m \u001b[0;34m=\u001b[0m \u001b[0mself\u001b[0m\u001b[0;34m.\u001b[0m\u001b[0mblklocs\u001b[0m\u001b[0;34m.\u001b[0m\u001b[0mcopy\u001b[0m\u001b[0;34m(\u001b[0m\u001b[0;34m)\u001b[0m\u001b[0;34m\u001b[0m\u001b[0;34m\u001b[0m\u001b[0m\n\u001b[1;32m    766\u001b[0m         \u001b[0;32mreturn\u001b[0m \u001b[0mnew_mgr\u001b[0m\u001b[0;34m\u001b[0m\u001b[0;34m\u001b[0m\u001b[0m\n",
      "\u001b[0;31mKeyboardInterrupt\u001b[0m: "
     ]
    }
   ],
   "source": [
    "TIMESTEPS = 1000\n",
    "\n",
    "for i in range(TIMESTEPS):\n",
    "\n",
    "    step_loss = 0.0\n",
    "\n",
    "    outputs = []\n",
    "    test_crisprs = []\n",
    "\n",
    "    for t in range(TASKS_PER_STEP):\n",
    "        train_tissue_expression, train_tissue_crispr, test_tissue_expression, test_tissue_crispr = get_task()\n",
    "\n",
    "        # Adaptation: Instantiate a copy of model\n",
    "        learner = maml.clone()\n",
    "\n",
    "        # Adaptation: Compute and adapt to task loss\n",
    "        for _ in range(fine_tune_steps):\n",
    "        # for _ in range(1):\n",
    "            output = learner(train_tissue_expression)\n",
    "            loss = loss_func(output, train_tissue_crispr) + l2_weight1 * (learner.fc1.weight.norm() + learner.fc2.weight.norm())\n",
    "            learner.adapt(loss)\n",
    "\n",
    "        # Adaptation: Evaluate the effectiveness of adaptation\n",
    "        output = learner(test_tissue_expression)\n",
    "\n",
    "        adapt_loss = loss_func(output, test_tissue_crispr) + l2_weight2 * (learner.fc1.weight.norm() + learner.fc2.weight.norm())\n",
    "\n",
    "        outputs.append(output)\n",
    "        test_crisprs.append(test_tissue_crispr)\n",
    "\n",
    "        # Accumulate the error over all tasks\n",
    "        step_loss += adapt_loss\n",
    "\n",
    "    outputs = torch.vstack(outputs).cpu().detach().numpy()\n",
    "    test_crisprs = torch.vstack(test_crisprs).cpu().detach().numpy()\n",
    "\n",
    "    # Meta-learning step: compute gradient through the adaptation step, automatically.\n",
    "    step_loss = step_loss / TASKS_PER_STEP\n",
    "    opt.zero_grad()\n",
    "    step_loss.backward()\n",
    "    opt.step()\n",
    "\n",
    "    corrs = [np.corrcoef(outputs[i], test_crisprs[i])[0, 1] for i in range(outputs.shape[0])]\n",
    "    corr = np.mean(corrs)\n",
    "\n",
    "    print(i, step_loss.item(), corr, end=\" \")\n",
    "    print()"
   ]
  },
  {
   "cell_type": "code",
   "execution_count": null,
   "metadata": {
    "id": "XH4Kmpf2uFL2"
   },
   "outputs": [],
   "source": [
    "torch.save(model.state_dict(), \"depmap_MLP_MAML.pt\")"
   ]
  }
 ],
 "metadata": {
  "accelerator": "GPU",
  "colab": {
   "gpuType": "T4",
   "provenance": []
  },
  "kernelspec": {
   "display_name": "Python 3 (ipykernel)",
   "language": "python",
   "name": "python3"
  },
  "language_info": {
   "codemirror_mode": {
    "name": "ipython",
    "version": 3
   },
   "file_extension": ".py",
   "mimetype": "text/x-python",
   "name": "python",
   "nbconvert_exporter": "python",
   "pygments_lexer": "ipython3",
   "version": "3.11.0"
  }
 },
 "nbformat": 4,
 "nbformat_minor": 1
}
